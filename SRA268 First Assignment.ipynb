{
  "nbformat": 4,
  "nbformat_minor": 0,
  "metadata": {
    "colab": {
      "name": "Assignment1.ipynb",
      "provenance": [],
      "authorship_tag": "ABX9TyMfJdMQBYjzA3ncRK7vy+O0",
      "include_colab_link": true
    },
    "kernelspec": {
      "name": "python3",
      "display_name": "Python 3"
    }
  },
  "cells": [
    {
      "cell_type": "markdown",
      "metadata": {
        "id": "view-in-github",
        "colab_type": "text"
      },
      "source": [
        "<a href=\"https://colab.research.google.com/github/jza5345/SRA268/blob/master/SRA268%20First%20Assignment.ipynb\" target=\"_parent\"><img src=\"https://colab.research.google.com/assets/colab-badge.svg\" alt=\"Open In Colab\"/></a>"
      ]
    },
    {
      "cell_type": "markdown",
      "metadata": {
        "id": "8Nuz3cBPONQu",
        "colab_type": "text"
      },
      "source": [
        "# **Correlation between temperature and snow**"
      ]
    },
    {
      "cell_type": "markdown",
      "metadata": {
        "id": "lY082DZXlNtV",
        "colab_type": "text"
      },
      "source": [
        "There is a positive relationship between temperature, the amount of snow and precipitation. The amount of snow is heavily related to the precipitation when the temperature drops. As the weather gets colder, the water drops turn into snow and more water drops lead to more snow. Aside from the correlation between the three variables, there seems to be another connection between snow and temperature. Numerous people including myself feel that the temperature change after snowfalls. If the data shows such tendency, it would be reasonable to say that the snowfall is positively related to the change of the temperature."
      ]
    },
    {
      "cell_type": "markdown",
      "metadata": {
        "id": "AKsZSApg7wJv",
        "colab_type": "text"
      },
      "source": [
        "![Correlation graph](https://drive.google.com/uc?id=15XRp7RdWfZFlO-D-fpxwsfavDnsAg_mQ)"
      ]
    },
    {
      "cell_type": "markdown",
      "metadata": {
        "id": "NHIqjV4z9YMy",
        "colab_type": "text"
      },
      "source": [
        "The general idea is that there is a positive correlation between temperature and the amount of snowfall with equivalent amount precipitation. According to the graph, the colder the temperature is, the more the snow it gets. Interestingly, there is another correlation between the two variables. It seems that temperature tends to up right after the snowfall. For instance, after snowfall in the first day of February, the minimum temperature goes up by 8 degrees. Another example would be the significant temperature change after the snowfall on the 16th. The temperature goes up by 25 degrees for the maximum temperature and 6 degrees for the minimum temperature. The tendency of temperature rise with the snowfall is tied to each other."
      ]
    },
    {
      "cell_type": "markdown",
      "metadata": {
        "id": "vl2DUxmH_CaI",
        "colab_type": "text"
      },
      "source": [
        ""
      ]
    }
  ]
}