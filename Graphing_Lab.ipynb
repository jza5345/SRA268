{
  "nbformat": 4,
  "nbformat_minor": 0,
  "metadata": {
    "colab": {
      "name": "Graphing Lab.ipynb",
      "provenance": [],
      "collapsed_sections": [],
      "include_colab_link": true
    },
    "kernelspec": {
      "name": "python3",
      "display_name": "Python 3"
    }
  },
  "cells": [
    {
      "cell_type": "markdown",
      "metadata": {
        "id": "view-in-github",
        "colab_type": "text"
      },
      "source": [
        "<a href=\"https://colab.research.google.com/github/jza5345/SRA268/blob/master/Graphing_Lab.ipynb\" target=\"_parent\"><img src=\"https://colab.research.google.com/assets/colab-badge.svg\" alt=\"Open In Colab\"/></a>"
      ]
    },
    {
      "cell_type": "markdown",
      "metadata": {
        "id": "6sOc4Uyr4U-Z",
        "colab_type": "text"
      },
      "source": [
        "# Types of Graphs\n"
      ]
    },
    {
      "cell_type": "markdown",
      "metadata": {
        "id": "0zZdVLAd5CYr",
        "colab_type": "text"
      },
      "source": [
        "Creator\n",
        "* Name: Jaemin Ahn "
      ]
    },
    {
      "cell_type": "markdown",
      "metadata": {
        "id": "g-r6Clq45Hn4",
        "colab_type": "text"
      },
      "source": [
        "### Deviation\n"
      ]
    },
    {
      "cell_type": "markdown",
      "metadata": {
        "id": "2gorxo6E7A0t",
        "colab_type": "text"
      },
      "source": [
        "![alt text](https://raw.githubusercontent.com/jza5345/SRA268-Graph-Lab/master/images/Deviation.PNG)"
      ]
    },
    {
      "cell_type": "markdown",
      "metadata": {
        "id": "w6bZ_NEi7E3w",
        "colab_type": "text"
      },
      "source": [
        "#### What is this graph telling us?"
      ]
    },
    {
      "cell_type": "markdown",
      "metadata": {
        "id": "95L-spaC7QHF",
        "colab_type": "text"
      },
      "source": [
        "The graph indicates the deviation of difference between the average winning points throughout 33 seasons, 1984 to 2016, and the average winning points of each season. The average winning points are 77.01 points and the number are subtracted from each year’s winning points average. In that way, there can be a value of how much the average of each year exceeds or fall short of overall average. Two colors are mainly used to determine whether exceed or below average. The darker the color, the greater the number is from the origin. Blue color indicates above the average and red color indicates the other. Color opacity is used as well to reinforce the concept."
      ]
    },
    {
      "cell_type": "markdown",
      "metadata": {
        "id": "YgXyXjmz7cDP",
        "colab_type": "text"
      },
      "source": [
        "### Correlation\n"
      ]
    },
    {
      "cell_type": "markdown",
      "metadata": {
        "id": "SGx15rZq7hvt",
        "colab_type": "text"
      },
      "source": [
        "![alt text](https://raw.githubusercontent.com/jza5345/SRA268-Graph-Lab/master/images/Correlation.PNG)"
      ]
    },
    {
      "cell_type": "markdown",
      "metadata": {
        "id": "dljjONNi7jmj",
        "colab_type": "text"
      },
      "source": [
        "#### What is this graph telling us?"
      ]
    },
    {
      "cell_type": "markdown",
      "metadata": {
        "id": "PwZEZrFB7laG",
        "colab_type": "text"
      },
      "source": [
        "Scatter plot is used to showcase the relationship between average winning points and average winning seeds. Assuming that high scoring may result in higher winning seeds turn out to be not true at all. There seems to be trend that higher points average tend to be correlated to relatively lower seeds. Furthermore, as the season passes by, points average mostly lies in between 70 and 80 points with higher chances of getting higher number seeds; as the time passes by, the circle gets darker in opacity.                                    "
      ]
    },
    {
      "cell_type": "markdown",
      "metadata": {
        "id": "MqUdI-uL7r2s",
        "colab_type": "text"
      },
      "source": [
        "### Ranking\n"
      ]
    },
    {
      "cell_type": "markdown",
      "metadata": {
        "id": "AvlxCOVt7x9F",
        "colab_type": "text"
      },
      "source": [
        "![alt text](https://raw.githubusercontent.com/jza5345/SRA268-Graph-Lab/master/images/Ranking.PNG)"
      ]
    },
    {
      "cell_type": "markdown",
      "metadata": {
        "id": "lCAYtfza7yTq",
        "colab_type": "text"
      },
      "source": [
        "#### What is this graph telling us?"
      ]
    },
    {
      "cell_type": "markdown",
      "metadata": {
        "id": "MyuciD277ygU",
        "colab_type": "text"
      },
      "source": [
        "The graph is showcasing the ranking of the total score made throughout 29 seasons, 1988 to 2016. Judging by the graph itself, bar graph is used in this case to show the hierarchy effectively. Starting from the left side of the graph, ascending order is used to avoid any visual aspect of showing inconsistent ups and downs of the data. The message from the graph is self-explanatory, 1999 season being the lowest overall winning score and 1988 season being the highest overall winning score within 29 seasons.    "
      ]
    },
    {
      "cell_type": "markdown",
      "metadata": {
        "id": "dGDGl8-G7y8Y",
        "colab_type": "text"
      },
      "source": [
        "### Distribution\n"
      ]
    },
    {
      "cell_type": "markdown",
      "metadata": {
        "id": "FB0uV-jy76p9",
        "colab_type": "text"
      },
      "source": [
        "![alt text](https://raw.githubusercontent.com/jza5345/SRA268-Graph-Lab/master/images/Distribution.PNG)"
      ]
    },
    {
      "cell_type": "markdown",
      "metadata": {
        "id": "_6SOzhrQ76zH",
        "colab_type": "text"
      },
      "source": [
        "#### What is this graph telling us?"
      ]
    },
    {
      "cell_type": "markdown",
      "metadata": {
        "id": "HBWqsS_g767h",
        "colab_type": "text"
      },
      "source": [
        "One of the simplest but effective way of displaying distribution is to use a box plot. A box plot displays a number data in a top-to-bottom order, which is ascending order. One of the key characteristics of a box plot is an indication of the range of the data values; lowest value, largest value, median, and outliers. In this particular case, box plot is applied each season with unique values. For instance, 1989 season, one outstanding outlier is found outside of the box at about 150 points. Inside the box, two zones are separated by the median at 81.5 points, where most of the data values fall into."
      ]
    },
    {
      "cell_type": "markdown",
      "metadata": {
        "id": "wQsDThk677Fy",
        "colab_type": "text"
      },
      "source": [
        "### Change over Time\n"
      ]
    },
    {
      "cell_type": "markdown",
      "metadata": {
        "id": "Z1j_YLOA7_OK",
        "colab_type": "text"
      },
      "source": [
        "![alt text](https://raw.githubusercontent.com/jza5345/SRA268-Graph-Lab/master/images/Change%20over%20time.PNG)"
      ]
    },
    {
      "cell_type": "markdown",
      "metadata": {
        "id": "mpfsmmgi7_Vj",
        "colab_type": "text"
      },
      "source": [
        "#### What is this graph telling us?"
      ]
    },
    {
      "cell_type": "markdown",
      "metadata": {
        "id": "rYLXoMMO7_di",
        "colab_type": "text"
      },
      "source": [
        "There is no better option to show what has happened during certain period of time than the use of a line graph. Line graph effectively shows the trend or fluctuation of data. From the graph above, there is a fluctuation of the average winning points during 33-year-period. It seems that comparing the average winning points between 1984 and 2016, the points went up about 10 points. However, in between 1984 and 2016, the average seems to be mostly declining over the period. "
      ]
    },
    {
      "cell_type": "markdown",
      "metadata": {
        "id": "lFwiHoE-7_jZ",
        "colab_type": "text"
      },
      "source": [
        "### Magnitude\n"
      ]
    },
    {
      "cell_type": "markdown",
      "metadata": {
        "id": "ICQFnXj78EbF",
        "colab_type": "text"
      },
      "source": [
        "![alt text](https://raw.githubusercontent.com/jza5345/SRA268-Graph-Lab/master/images/Magnitude.PNG)"
      ]
    },
    {
      "cell_type": "markdown",
      "metadata": {
        "id": "QGG7XYG88Eii",
        "colab_type": "text"
      },
      "source": [
        "#### What is this graph telling us?"
      ]
    },
    {
      "cell_type": "markdown",
      "metadata": {
        "id": "VS7uGa0l8Eos",
        "colab_type": "text"
      },
      "source": [
        "The graph indicates the average winning points throughout 33 seasons, 1984 to 2016 seasons. Credit from the dominant characteristics of a bar graph, the higher winning point-season has higher bars than those of the lower winning point-season. However, sometimes that margin can be so small that it can be indistinguishable from one another. In this case, one little but critical aspect can be added to be more effective at emphasizing that minute difference. It is color saturation or opacity. Degree of the color can insist the magnitude of the data. In this particular case, the lower the average is, the lighter of the color it gets."
      ]
    },
    {
      "cell_type": "markdown",
      "metadata": {
        "id": "bEKFxP8R8Evk",
        "colab_type": "text"
      },
      "source": [
        "### Part-to-Whole\n"
      ]
    },
    {
      "cell_type": "markdown",
      "metadata": {
        "id": "WFHlcYKV8E35",
        "colab_type": "text"
      },
      "source": [
        "![alt text](https://raw.githubusercontent.com/jza5345/SRA268-Graph-Lab/master/images/Part%20to%20whole.PNG)"
      ]
    },
    {
      "cell_type": "markdown",
      "metadata": {
        "id": "PNSd3wlp8UZH",
        "colab_type": "text"
      },
      "source": [
        "#### What is this graph telling us?"
      ]
    },
    {
      "cell_type": "markdown",
      "metadata": {
        "id": "y9tb_QRA8aqt",
        "colab_type": "text"
      },
      "source": [
        "A treemap chart is a great way to display hierarchical or part-to-whole relationship with rectangles. The range in size locates from the top left corner to the bottom right corner in a descending order. From the chart, 1989 season has the largest rectangle with the average points of 85.22 and the 1985 season with the smallest rectangle with the average points of 68.05. Furthermore, there color opacity is added to give more accurate visual indication toward the size of the rectangles. Larger rectangles have relatively darker colors than those of smaller rectangles."
      ]
    }
  ]
}